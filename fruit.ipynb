{
  "nbformat": 4,
  "nbformat_minor": 0,
  "metadata": {
    "colab": {
      "name": "fruit.ipynb",
      "provenance": [],
      "authorship_tag": "ABX9TyOJvapwTWWa7MibJgJcRMDP",
      "include_colab_link": true
    },
    "kernelspec": {
      "name": "python3",
      "display_name": "Python 3"
    },
    "language_info": {
      "name": "python"
    }
  },
  "cells": [
    {
      "cell_type": "markdown",
      "metadata": {
        "id": "view-in-github",
        "colab_type": "text"
      },
      "source": [
        "<a href=\"https://colab.research.google.com/github/kuangzy2011/datasets/blob/main/fruit.ipynb\" target=\"_parent\"><img src=\"https://colab.research.google.com/assets/colab-badge.svg\" alt=\"Open In Colab\"/></a>"
      ]
    },
    {
      "cell_type": "markdown",
      "metadata": {
        "id": "82ATeb5tZRsB"
      },
      "source": [
        "# [食物/蔬菜/水果分类](https://www.kaggle.com/dimakyn/distributed-training-in-pytorch/notebook)"
      ]
    },
    {
      "cell_type": "code",
      "metadata": {
        "id": "Mkabpun6ZQop"
      },
      "source": [
        "!pip install -q imutils\n",
        "\n",
        "import os\n",
        "import time\n",
        "import shutil\n",
        "\n",
        "from imutils import paths\n",
        "\n",
        "import numpy as np\n",
        "from tqdm import tqdm\n",
        "import matplotlib.pyplot as plt\n",
        "\n",
        "import torch\n",
        "from torch import nn\n",
        "from torch import optim\n",
        "from torchvision import models\n",
        "from torchvision import transforms\n",
        "from torch.cuda.amp import autocast\n",
        "from torchvision import datasets\n",
        "from torch.utils.data import DataLoader\n",
        "from torchvision.models import densenet121\n",
        "\n",
        "from sklearn.metrics import classification_report"
      ],
      "execution_count": 1,
      "outputs": []
    },
    {
      "cell_type": "code",
      "metadata": {
        "colab": {
          "base_uri": "https://localhost:8080/"
        },
        "id": "xAE6CHxYZ8Xa",
        "outputId": "821e968f-6457-407d-8ab6-a1a74e705761"
      },
      "source": [
        "!pip install -U -q kaggle\n",
        "\n",
        "!mkdir -p ~/.kaggle\n",
        "\n",
        "!echo '{\"username\":\"kuangzy126\",\"key\":\"07eb9cd6b83b71a10e78eae58d162614\"}' > ~/.kaggle/kaggle.json\n",
        "!chmod 600 ~/.kaggle/kaggle.json\n",
        "\n",
        "#copy API command\n",
        "!kaggle datasets download -d chrisfilo/fruit-recognition\n",
        "#!kaggle kernels pull yasinsoylu123/fruit-classification\n",
        "!ls"
      ],
      "execution_count": 6,
      "outputs": [
        {
          "output_type": "stream",
          "name": "stdout",
          "text": [
            "Downloading fruit-recognition.zip to /content\n",
            "100% 7.91G/7.92G [03:00<00:00, 21.9MB/s]\n",
            "100% 7.92G/7.92G [03:00<00:00, 47.2MB/s]\n",
            "fruit-classification.ipynb  gender_submission.csv  test.csv\n",
            "fruit-recognition.zip\t    sample_data\t\t   train.csv\n"
          ]
        }
      ]
    },
    {
      "cell_type": "code",
      "metadata": {
        "id": "rTEeLTw0h4X9"
      },
      "source": [
        "!unzip -q fruit-recognition.zip -d fruit"
      ],
      "execution_count": null,
      "outputs": []
    }
  ]
}