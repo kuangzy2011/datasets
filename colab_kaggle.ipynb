{
  "nbformat": 4,
  "nbformat_minor": 0,
  "metadata": {
    "colab": {
      "name": "colab_kaggle",
      "provenance": [],
      "collapsed_sections": [],
      "authorship_tag": "ABX9TyPGKF1weUsjXjXp+f7Yx/rM",
      "include_colab_link": true
    },
    "kernelspec": {
      "name": "python3",
      "display_name": "Python 3"
    },
    "language_info": {
      "name": "python"
    }
  },
  "cells": [
    {
      "cell_type": "markdown",
      "metadata": {
        "id": "view-in-github",
        "colab_type": "text"
      },
      "source": [
        "<a href=\"https://colab.research.google.com/github/kuangzy2011/datasets/blob/main/colab_kaggle.ipynb\" target=\"_parent\"><img src=\"https://colab.research.google.com/assets/colab-badge.svg\" alt=\"Open In Colab\"/></a>"
      ]
    },
    {
      "cell_type": "markdown",
      "metadata": {
        "id": "PP5wCp_YQ60M"
      },
      "source": [
        "# [谷歌 colab调用 Kaggle 数据集](https://blog.csdn.net/songbaiyao/article/details/107739647)\n"
      ]
    },
    {
      "cell_type": "code",
      "metadata": {
        "colab": {
          "base_uri": "https://localhost:8080/"
        },
        "id": "cwYnOZvuQwg3",
        "outputId": "461269e4-ec17-4d5d-8772-90f5b4e4e27c"
      },
      "source": [
        "!pip install -U -q kaggle\n",
        "\n",
        "!mkdir -p ~/.kaggle\n",
        "\n",
        "!echo '{\"username\":\"kuangzy126\",\"key\":\"07eb9cd6b83b71a10e78eae58d162614\"}' > ~/.kaggle/kaggle.json\n",
        "!chmod 600 ~/.kaggle/kaggle.json\n",
        "\n",
        "#copy API command\n",
        "!kaggle datasets download -d ultralytics/coco128\n",
        "!ls"
      ],
      "execution_count": 2,
      "outputs": [
        {
          "output_type": "stream",
          "name": "stdout",
          "text": [
            "Downloading coco128.zip to /content\n",
            " 90% 19.0M/21.1M [00:00<00:00, 49.5MB/s]\n",
            "100% 21.1M/21.1M [00:00<00:00, 60.7MB/s]\n",
            "coco128.zip  sample_data\n"
          ]
        }
      ]
    }
  ]
}